{
 "cells": [
  {
   "cell_type": "markdown",
   "metadata": {},
   "source": [
    "# 2.2 Create a circuit with 3 qubits and 1 bit which will have hadamard in 1st qubit and measurment in bit"
   ]
  },
  {
   "cell_type": "code",
   "execution_count": 29,
   "metadata": {},
   "outputs": [],
   "source": [
    "import cirq"
   ]
  },
  {
   "cell_type": "code",
   "execution_count": 30,
   "metadata": {},
   "outputs": [],
   "source": [
    "# Creating Qubits\n",
    "q0, q1, q2 = cirq.LineQubit.range(0,3)\n",
    "circuit = cirq.Circuit()"
   ]
  },
  {
   "cell_type": "code",
   "execution_count": 31,
   "metadata": {},
   "outputs": [
    {
     "name": "stdout",
     "output_type": "stream",
     "text": [
      "0: ───H───\n",
      "\n",
      "1: ───I───\n",
      "\n",
      "2: ───I───\n"
     ]
    }
   ],
   "source": [
    "# Adding Gates\n",
    "H_gate = cirq.H(q0)\n",
    "circuit.append(H_gate)\n",
    "circuit.append(cirq.I(q1))\n",
    "circuit.append(cirq.I(q2))\n",
    "print(circuit)\n"
   ]
  },
  {
   "cell_type": "code",
   "execution_count": 32,
   "metadata": {},
   "outputs": [
    {
     "name": "stdout",
     "output_type": "stream",
     "text": [
      "0: ───H───M('q0')───\n",
      "\n",
      "1: ───I─────────────\n",
      "\n",
      "2: ───I─────────────\n"
     ]
    }
   ],
   "source": [
    "# Adding Measurement\n",
    "measure = cirq.measure(q0, key='q0')\n",
    "circuit.append(measure)\n",
    "print(circuit)"
   ]
  }
 ],
 "metadata": {
  "kernelspec": {
   "display_name": "Python 3",
   "language": "python",
   "name": "python3"
  },
  "language_info": {
   "codemirror_mode": {
    "name": "ipython",
    "version": 3
   },
   "file_extension": ".py",
   "mimetype": "text/x-python",
   "name": "python",
   "nbconvert_exporter": "python",
   "pygments_lexer": "ipython3",
   "version": "3.11.4"
  }
 },
 "nbformat": 4,
 "nbformat_minor": 2
}
