{
 "cells": [
  {
   "cell_type": "markdown",
   "metadata": {},
   "source": [
    "# Creating Qubits"
   ]
  },
  {
   "cell_type": "code",
   "execution_count": 1,
   "metadata": {},
   "outputs": [],
   "source": [
    "import cirq"
   ]
  },
  {
   "cell_type": "markdown",
   "metadata": {},
   "source": [
    "There are 3 ways to name a qubit\n",
    "cirq.NamedQubit : label qubits by an abstract name.\n",
    "cirq.LineQubit : labelled by number in a linear array.\n",
    "cirq.GridQubit : labelled by two numbers in a rectangular lattice."
   ]
  },
  {
   "cell_type": "markdown",
   "metadata": {},
   "source": [
    "Using cirq.NamedQubit"
   ]
  },
  {
   "cell_type": "code",
   "execution_count": 12,
   "metadata": {},
   "outputs": [
    {
     "name": "stdout",
     "output_type": "stream",
     "text": [
      "source target\n"
     ]
    }
   ],
   "source": [
    "q0 = cirq.NamedQubit('source')\n",
    "q1 = cirq.NamedQubit('target')\n",
    "print(q0,q1)"
   ]
  },
  {
   "cell_type": "markdown",
   "metadata": {},
   "source": [
    "Using cirq.LineQubit"
   ]
  },
  {
   "cell_type": "code",
   "execution_count": 15,
   "metadata": {},
   "outputs": [
    {
     "name": "stdout",
     "output_type": "stream",
     "text": [
      "q(3) q(4)\n",
      "q(5) q(6) q(7)\n"
     ]
    }
   ],
   "source": [
    "q2 = cirq.LineQubit(3)\n",
    "q3 = cirq.LineQubit(4)\n",
    "print(q2,q3) # 4 qubits are created till now\n",
    "# in bulk\n",
    "q4, q5, q6 = cirq.LineQubit.range(5,8) # starts from 5 ends at 7 (5,6,7)\n",
    "print(q4, q5, q6)"
   ]
  },
  {
   "cell_type": "markdown",
   "metadata": {},
   "source": [
    "Using cirq.GridQubit"
   ]
  },
  {
   "cell_type": "code",
   "execution_count": 17,
   "metadata": {},
   "outputs": [
    {
     "name": "stdout",
     "output_type": "stream",
     "text": [
      "q(8, 9)\n"
     ]
    }
   ],
   "source": [
    "q7_8 = cirq.GridQubit(8,9)\n",
    "print(q7_8)"
   ]
  }
 ],
 "metadata": {
  "kernelspec": {
   "display_name": "Python 3",
   "language": "python",
   "name": "python3"
  },
  "language_info": {
   "codemirror_mode": {
    "name": "ipython",
    "version": 3
   },
   "file_extension": ".py",
   "mimetype": "text/x-python",
   "name": "python",
   "nbconvert_exporter": "python",
   "pygments_lexer": "ipython3",
   "version": "3.11.4"
  }
 },
 "nbformat": 4,
 "nbformat_minor": 2
}
