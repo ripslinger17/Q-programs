{
 "cells": [
  {
   "cell_type": "markdown",
   "metadata": {},
   "source": [
    "# Quantum Gates and Quantum Operation"
   ]
  },
  {
   "cell_type": "markdown",
   "metadata": {},
   "source": [
    "- A *Gate* is an effect that can be applied to a set of qubits.\n",
    "- An *Operation* is a gate applied to a set of qubits."
   ]
  },
  {
   "cell_type": "code",
   "execution_count": 1,
   "metadata": {},
   "outputs": [],
   "source": [
    "import cirq"
   ]
  },
  {
   "cell_type": "code",
   "execution_count": 10,
   "metadata": {},
   "outputs": [
    {
     "name": "stdout",
     "output_type": "stream",
     "text": [
      "CNOT(q(0), q(1))\n"
     ]
    }
   ],
   "source": [
    "q0, q1 = cirq.LineQubit.range(0,2)\n",
    "cnot_gate = cirq.CNOT # created a CNOT gate\n",
    "cnot_op = cirq.CNOT(q0, q1) # created a CNOT operation\n",
    "# print(q0,q1) \n",
    "# print(cnot_gate)\n",
    "print(cnot_op)"
   ]
  },
  {
   "cell_type": "markdown",
   "metadata": {},
   "source": [
    "Using exponentiation to get a square root gates"
   ]
  },
  {
   "cell_type": "code",
   "execution_count": 14,
   "metadata": {},
   "outputs": [
    {
     "name": "stdout",
     "output_type": "stream",
     "text": [
      "X**0.5(q(2))\n"
     ]
    }
   ],
   "source": [
    "q2 = cirq.LineQubit(2)\n",
    "sqrt_x_gate = cirq.X**0.5\n",
    "sqrt_x_op = sqrt_x_gate(q2)\n",
    "# print(q2)\n",
    "# print(sqrt_x_gate)\n",
    "print(sqrt_x_op)"
   ]
  },
  {
   "cell_type": "code",
   "execution_count": null,
   "metadata": {},
   "outputs": [],
   "source": []
  }
 ],
 "metadata": {
  "kernelspec": {
   "display_name": "Python 3",
   "language": "python",
   "name": "python3"
  },
  "language_info": {
   "codemirror_mode": {
    "name": "ipython",
    "version": 3
   },
   "file_extension": ".py",
   "mimetype": "text/x-python",
   "name": "python",
   "nbconvert_exporter": "python",
   "pygments_lexer": "ipython3",
   "version": "3.11.4"
  }
 },
 "nbformat": 4,
 "nbformat_minor": 2
}
