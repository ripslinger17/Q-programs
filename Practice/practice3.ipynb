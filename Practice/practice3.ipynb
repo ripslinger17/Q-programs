{
 "cells": [
  {
   "cell_type": "code",
   "execution_count": 46,
   "metadata": {},
   "outputs": [],
   "source": [
    "import numpy as np\n",
    "import cirq\n",
    "import cirq_web.bloch_sphere as bs"
   ]
  },
  {
   "cell_type": "code",
   "execution_count": 49,
   "metadata": {},
   "outputs": [],
   "source": [
    "# Vector Denotion\n",
    "vec1 = [1/np.sqrt(2), 1/np.sqrt(2)]\n",
    "vec2 = [1/np.sqrt(4), 1/np.sqrt(5)]\n",
    "vec3 = [1/np.sqrt(9), 1/np.sqrt(7)]"
   ]
  },
  {
   "cell_type": "code",
   "execution_count": 50,
   "metadata": {},
   "outputs": [
    {
     "name": "stdout",
     "output_type": "stream",
     "text": [
      "0.71|0⟩ + 0.71|1⟩\n",
      "0.5|0⟩ + 0.45|1⟩\n",
      "0.33|0⟩ + 0.38|1⟩\n"
     ]
    }
   ],
   "source": [
    "# dirac notation\n",
    "print(cirq.dirac_notation(vec1))\n",
    "print(cirq.dirac_notation(vec2))\n",
    "print(cirq.dirac_notation(vec3))"
   ]
  },
  {
   "cell_type": "code",
   "execution_count": 51,
   "metadata": {},
   "outputs": [
    {
     "name": "stdout",
     "output_type": "stream",
     "text": [
      "[0.7071067811865475, 0.7071067811865475]\n",
      "[0.5, 0.4472135954999579]\n",
      "[0.3333333333333333, 0.3779644730092272]\n"
     ]
    }
   ],
   "source": [
    "# Vector Representation\n",
    "print(vec1)\n",
    "print(vec2)\n",
    "print(vec3)"
   ]
  }
 ],
 "metadata": {
  "kernelspec": {
   "display_name": "Python 3",
   "language": "python",
   "name": "python3"
  },
  "language_info": {
   "codemirror_mode": {
    "name": "ipython",
    "version": 3
   },
   "file_extension": ".py",
   "mimetype": "text/x-python",
   "name": "python",
   "nbconvert_exporter": "python",
   "pygments_lexer": "ipython3",
   "version": "3.11.4"
  }
 },
 "nbformat": 4,
 "nbformat_minor": 2
}
