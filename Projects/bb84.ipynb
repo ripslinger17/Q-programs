{
 "cells": [
  {
   "cell_type": "markdown",
   "metadata": {},
   "source": [
    "# BB84 Basic\n",
    "## Introduction\n",
    "BB84 is a Quantum Key Distribution (QKD) protocol. It is a method of securely distributing cryptographic keys over a distance using quantum mechanics. It is named after its inventors Charles Bennett and Gilles Brassard in 1984.\n",
    "\n",
    "## Works on\n",
    "It works on quantum mechanics protocol such as No Clonning, Superposition, and Unceratinity Principle.\n",
    "\n",
    "## Alice and Bob\n",
    "Suppose there are 3 characters Alice, Bob and Eve. Alice and Bob are trying to communicate successfully without any interuption in their private channel. For that they transfer their Basis choice on the public channel.\n",
    "After Bob receives the basis he can compare it with the qubits he received and if the basis matches then he can measure the qubit and get the correct bit. If the basis doesn't match then he will get a random bit. After that Alice and Bob can compare their bits on the public channel and if they match then they can use those bits as their key. If they don't match then they can discard those bits and try again.\n",
    "\n",
    "## Eve the Evasdropper\n",
    "If Eve is listening to the public channel then she can measure the basis and qubits which are being sent by the Alice and can understand the key. What will happen is if Eve is evasdropping than the bits which are being evasdropped by Eve might match or might not match. She cannot be sure about the bits she received but she has to forward the bits which are in some way so that Bob can reveive them. And if she forwards the bits which are not correct then Alice and Bob will come to know that someone is listening to their channel."
   ]
  },
  {
   "cell_type": "code",
   "execution_count": 148,
   "metadata": {},
   "outputs": [],
   "source": [
    "from random import choices\n",
    "import cirq"
   ]
  },
  {
   "cell_type": "markdown",
   "metadata": {},
   "source": [
    "## Declaring Qubits and Circuit\n",
    "First, we declare the qubits and the circuit. We will use qubits for the BB84 protocol."
   ]
  },
  {
   "cell_type": "code",
   "execution_count": 149,
   "metadata": {},
   "outputs": [],
   "source": [
    "# Declaring qubits and Circuit\n",
    "num_qubits = 5 \n",
    "qubits = cirq.NamedQubit.range(num_qubits, prefix='q')\n",
    "alice_circuit = cirq.Circuit()\n",
    "bob_circuit = cirq.Circuit()"
   ]
  },
  {
   "cell_type": "markdown",
   "metadata": {},
   "source": [
    "## Declaring Bases and Keys\n",
    "**Bases** : Bases are like special glasses that help you see hidden things. But here, instead of glasses, they're directions, like up and sideways. You and your friend agree on these directions, but you keep them secret from others.\n",
    "\n",
    "These are orientations used to measure the state of a quantum bit (qubit). In BB84, the two commonly used bases are usually represented as the rectilinear basis (horizontal and vertical) and the diagonal basis (45 degrees and 135 degrees).\n",
    "\n",
    "Bases are used to measure the state of a qubit. If the basis used to measure a qubit is the same as the basis used to prepare the qubit, then the measurement will be correct. If the bases do not match, then the measurement will be random (will not match).\n",
    "\n",
    "**Keys** : Keys are like the secret codes you and your friend make using these directions. You have a bunch of secret codes, and your friend has the same ones, but nobody else knows what they are because they don't have the special glasses (bases) you used to create them. These codes help you send secret messages that only you and your friend can understand.\n",
    "\n",
    "They are the secret strings of bits generated and shared between two parties using quantum bits. These bits form the basis of secure communication.\n",
    "\n",
    "Keys are used to verify that have both parties have received the same information. They are also used to encrypt and decrypt messages."
   ]
  },
  {
   "cell_type": "code",
   "execution_count": 150,
   "metadata": {},
   "outputs": [
    {
     "name": "stdout",
     "output_type": "stream",
     "text": [
      "{0: cirq.I, 1: cirq.X}\n",
      "{'Z': cirq.I, 'X': cirq.H}\n"
     ]
    }
   ],
   "source": [
    "encoded_gates = {0: cirq.I, 1: cirq.X} # this specify which gates to apply based on the bit value\n",
    "basis_gates = {'Z': cirq.I, 'X': cirq.H} # this specify which gates to apply based on the basis\n",
    "print(encoded_gates)\n",
    "print(basis_gates)"
   ]
  },
  {
   "cell_type": "code",
   "execution_count": 151,
   "metadata": {},
   "outputs": [
    {
     "name": "stdout",
     "output_type": "stream",
     "text": [
      "[0, 0, 1, 1, 0]\n",
      "['X', 'X', 'X', 'Z', 'Z']\n"
     ]
    }
   ],
   "source": [
    "## Declaring Bases and Gates\n",
    "alice_key = choices([0,1], k = num_qubits) # Alices Key / Alice randomly chooses bits\n",
    "alice_base = choices(['Z', 'X'], k = num_qubits) # Alices Base / Alice randomly chooses bases\n",
    "\n",
    "print(alice_key)\n",
    "print(alice_base)"
   ]
  },
  {
   "cell_type": "markdown",
   "metadata": {},
   "source": [
    "## Alice creates Qubits\n",
    "Alice will create qubits based on the Bases and Gates she has choosen randomly.\n",
    "Here for every Gates and Bases she has an encoded_gate and encoded_basis."
   ]
  },
  {
   "cell_type": "code",
   "execution_count": 152,
   "metadata": {},
   "outputs": [
    {
     "name": "stdout",
     "output_type": "stream",
     "text": [
      "q0: ───I───H───\n",
      "\n",
      "q1: ───I───H───\n",
      "\n",
      "q2: ───X───H───\n",
      "\n",
      "q3: ───X───I───\n",
      "\n",
      "q4: ───I───I───\n"
     ]
    }
   ],
   "source": [
    "# Alice creating Qubits\n",
    "for bit in range(num_qubits):\n",
    "    alice_encode_value = alice_key[bit] # to get the value of alice_key, whether its 0 or 1.\n",
    "    alice_encode_gate = encoded_gates[alice_encode_value] # to decide value of 0 and 1 for e.g : 0 = cirq.I and 1 = cirq.X\n",
    "    #print(alice_encode_gate)\n",
    "    alice_basis_value = alice_base[bit] # to get the value of alice_base, whether its Z or X.\n",
    "    alice_bases_gates = basis_gates[alice_basis_value] # to decide value of Z and X for e.g : Z = cirq.I and X = cirq.H\n",
    "    #print(alice_basis_value)\n",
    "\n",
    "    alice_qubit = qubits[bit] # for every qubits[] in qubits i.e q0, q1, q2, q3, q4.\n",
    "    alice_circuit.append(alice_encode_gate(alice_qubit)) # Append alice_encode_gate on alice_circut for every alice_qubit\n",
    "    alice_circuit.append(alice_bases_gates(alice_qubit)) # Append alice_bases_gate on alice_circut for every alice_qubit\n",
    "\n",
    "print(alice_circuit)"
   ]
  },
  {
   "cell_type": "markdown",
   "metadata": {},
   "source": [
    "# Alice Sends Qubits to Bob\n",
    "Alice sends the qubits to Bob through the public channel. No coding required for this step. (Assume that we have sent the qubits to Bob)"
   ]
  },
  {
   "cell_type": "code",
   "execution_count": 153,
   "metadata": {},
   "outputs": [
    {
     "name": "stdout",
     "output_type": "stream",
     "text": [
      "q0: ───I───\n",
      "\n",
      "q1: ───H───\n",
      "\n",
      "q2: ───I───\n",
      "\n",
      "q3: ───I───\n",
      "\n",
      "q4: ───H───\n"
     ]
    }
   ],
   "source": [
    "# Bob picks bases\n",
    "bob_bases = choices(['Z', 'X'], k = num_qubits)\n",
    "\n",
    "for bit in range(num_qubits):\n",
    "    bob_basis_value = bob_bases[bit]\n",
    "    bob_basis_gate = basis_gates[bob_basis_value]\n",
    "\n",
    "    bob_qubit = qubits[bit]\n",
    "    bob_circuit.append(bob_basis_gate(bob_qubit))\n",
    "\n",
    "print(bob_circuit)"
   ]
  },
  {
   "cell_type": "code",
   "execution_count": 154,
   "metadata": {},
   "outputs": [
    {
     "name": "stdout",
     "output_type": "stream",
     "text": [
      "None\n"
     ]
    }
   ],
   "source": [
    "# Bob measures qubits\n",
    "bob_measure = bob_circuit.append(cirq.measure(qubits, key= 'bob key')) # measures the bob_circuit\n",
    "print(bob_measure)"
   ]
  },
  {
   "cell_type": "code",
   "execution_count": 155,
   "metadata": {},
   "outputs": [
    {
     "name": "stdout",
     "output_type": "stream",
     "text": [
      "[1 0 0 1 1]\n"
     ]
    }
   ],
   "source": [
    "# Bob Creates his key\n",
    "bb84_circuit = alice_circuit + bob_circuit # don't know why we do this\n",
    "\n",
    "sim = cirq.Simulator()\n",
    "results = sim.run(bb84_circuit)\n",
    "bob_key = results.measurements['bob key'][0] # measures the q0 which has measurement qubit and prints the bob_key\n",
    "print(bob_key)"
   ]
  },
  {
   "cell_type": "markdown",
   "metadata": {},
   "source": [
    "## Alice and Bob Compare their Bases\n",
    "Alice and Bob compare their bases on the public channel. If the bases match then they will keep the qubits and if the bases don't match then they will discard the qubits."
   ]
  },
  {
   "cell_type": "code",
   "execution_count": 156,
   "metadata": {},
   "outputs": [
    {
     "name": "stdout",
     "output_type": "stream",
     "text": [
      "[0, 1]\n",
      "[0, 1]\n"
     ]
    }
   ],
   "source": [
    "# Alice and Bob Compares\n",
    "final_alice_key = []\n",
    "final_bob_key = []\n",
    "\n",
    "for bit in range(num_qubits):\n",
    "    if alice_base[bit] == bob_bases[bit]:\n",
    "        final_alice_key.append(alice_key[bit]) # will only add which matches with bob's key\n",
    "        final_bob_key.append(bob_key[bit]) # will only add which matches with alice's key\n",
    "\n",
    "print(final_alice_key)\n",
    "print(final_bob_key)"
   ]
  },
  {
   "cell_type": "code",
   "execution_count": 157,
   "metadata": {},
   "outputs": [
    {
     "name": "stdout",
     "output_type": "stream",
     "text": [
      "We can use our keys!\n"
     ]
    }
   ],
   "source": [
    "# Checking for Eve as evasdropper\n",
    "if final_alice_key[0] == final_bob_key[0]:\n",
    "    final_alice_key = final_alice_key[1:]\n",
    "    final_bob_key = final_bob_key[1:]\n",
    "    print(\"We can use our keys!\")\n",
    "else:\n",
    "    print(\"Eve has been evasdropping!\")"
   ]
  }
 ],
 "metadata": {
  "kernelspec": {
   "display_name": "Python 3",
   "language": "python",
   "name": "python3"
  },
  "language_info": {
   "codemirror_mode": {
    "name": "ipython",
    "version": 3
   },
   "file_extension": ".py",
   "mimetype": "text/x-python",
   "name": "python",
   "nbconvert_exporter": "python",
   "pygments_lexer": "ipython3",
   "version": "3.11.4"
  }
 },
 "nbformat": 4,
 "nbformat_minor": 2
}
